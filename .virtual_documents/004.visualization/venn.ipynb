import supervenn, pandas, matplotlib_venn


import matplotlib, matplotlib.pyplot
matplotlib.rcParams.update({'font.size':20, 
                            'font.family':'sans-serif', 
                            'xtick.labelsize':16, 
                            'ytick.labelsize':16, 
                            'figure.figsize':(16*(2/3), 9*(2/3)), 
                            'axes.labelsize':20
                           })





annotation_file = '/Users/adrian/research/egilsstadir/results/deseq2/annotation.tsv'
annotation = pandas.read_csv(annotation_file, sep='\t')
annotation





input_dir = '/Users/adrian/research/egilsstadir/results/deseq2/'

df = pandas.read_csv(input_dir+'effect_WT_vs_KO.tsv', sep='\t', index_col=0)
a = set(df.index)
print(len(a))

df = pandas.read_csv(input_dir+'effect_202low_vs_KO.tsv', sep='\t', index_col=0)
b = set(df.index)
print(len(b))

df = pandas.read_csv(input_dir+'effect_202high_vs_KO.tsv', sep='\t', index_col=0)
c = set(df.index)
print(len(c))

df = pandas.read_csv(input_dir+'effect_202high_vs_202low.tsv', sep='\t', index_col=0)
d = set(df.index)
print(len(d))


sets = [a, b, c]
labels = ['WT|WT vs KO|KO', 'KO|WT vs KO|KO', 'KO|+ vs KO|KO']
mso = supervenn.supervenn(sets, labels,
                          side_plots=False, chunks_ordering='size', 
                          reverse_sets_order=False, fontsize=12, color_cycle=['tab:red', 'skyblue', 'gold', 'tab:green'])

matplotlib.pyplot.show()


print(703 + 411 + 187 + 149)
print(375 + 187 + 149 + 123)


# explore what happened with the effect of restoring 201, independently of the levels
sub = mso.chunks[frozenset([1, 2])]
print(len(sub))

for ensembl in list(sub):
    symbol = list(set(annotation[annotation['ensembl_gene_id'] == ensembl]['external_gene_name'].values))[0]
    description = list(set(annotation[annotation['ensembl_gene_id'] == ensembl]['description'].values))[0].split(' [')[0]
    print('{}\t{}\t{}'.format(ensembl, symbol, description))


sets = [b, c, d]
labels = ['KO|WT vs KO|KO', 'KO|+ vs KO|KO', 'high vs low']
mso = supervenn.supervenn(sets, labels,
                          side_plots=False, chunks_ordering='size', 
                          reverse_sets_order=False, fontsize=12, color_cycle=['skyblue', 'gold', 'tab:green'])

matplotlib.pyplot.show()


print(510 + 466 + 379 + 114)
print(623 + 484 + 466 + 114)


# explore 202 dose response: intersect of high vs KO with high vs low
sub = mso.chunks[frozenset([1, 2])]
print(len(sub))

for ensembl in list(sub):
    symbol = list(set(annotation[annotation['ensembl_gene_id'] == ensembl]['external_gene_name'].values))[0]
    description = list(set(annotation[annotation['ensembl_gene_id'] == ensembl]['description'].values))[0].split(' [')[0]
    print('{}\t{}\t{}'.format(ensembl, symbol, description))
