import pandas, supervenn


import matplotlib, matplotlib.pyplot
matplotlib.rcParams.update({'font.size':20, 
                            'font.family':'sans-serif', 
                            'xtick.labelsize':16, 
                            'ytick.labelsize':16, 
                            'figure.figsize':(16*(2/3), 9*(2/3)), 
                            'axes.labelsize':20
                           })


annotation_file = '/Users/adrian/research/egilsstadir/results/deseq2/annotation.tsv'
expression_file = '/Users/adrian/research/egilsstadir/results/deseq2/DESeq2_TPM_values.tsv'

input_file_dir = '/Users/adrian/research/egilsstadir/results/deseq2/'
input_files = ['effect_WT_vs_KO.tsv', 'effect_202low_vs_KO.tsv', 'effect_202high_vs_KO.tsv', 'effect_202high_vs_202low.tsv']

output_folder = '/Users/adrian/research/egilsstadir/results/response_genes/'





anno = pandas.read_csv(annotation_file, sep='\t')
anno.set_index('ensembl_gene_id', inplace=True)
anno.drop(['ensembl_transcript_id', 'Unnamed: 0'], axis='columns', inplace=True)
anno.drop_duplicates(inplace=True)

anno['Description'] = anno['description'].str.split(' \[', expand=True)[0]
anno.drop(['description'], axis='columns', inplace=True)

anno





expression = pandas.read_csv(expression_file, sep='\t', index_col=0)

# 18 :: ko_high
# 42 :: ko_wt
# 63 :: ko_ko
# wt :: wt_wt

a = expression.iloc[:, 0:3]  # ko_high
b = expression.iloc[:, 3:6]  # ko_wt
c = expression.iloc[:, 6:9]  # ko_ko
d = expression.iloc[:, 9:12] # wt_wt

expression['ko_high'] = a.median(axis=1)
expression['ko_wt'] = b.median(axis=1)
expression['ko_ko'] = c.median(axis=1)
expression['wt_wt'] = d.median(axis=1)

median_expression = expression.iloc[:, 12:]
median_expression





input_files = ['effect_WT_vs_KO.tsv', 'effect_202low_vs_KO.tsv', 'effect_202high_vs_KO.tsv', 'effect_202high_vs_202low.tsv']
final_tables = []


for i in range(len(input_files)):

    # get DEGs
    working_file = input_file_dir+input_files[i]
    df = pandas.read_csv(working_file, sep='\t')
    df.drop(['baseMean', 'lfcSE', 'stat', 'pvalue'], axis=1, inplace=True)

    # get annotation
    annotated_df = df.join(anno)

    # get expression
    full_df = annotated_df.join(median_expression)

    # drop expression values we dont need
    if i == 0:
        dropping = ['ko_high', 'ko_wt']; new_names = {"ko_ko":"Reference expression [TPM]", "wt_wt":"Condition expression [TPM]"}
    if i == 1:
        dropping = ['ko_high', 'wt_wt']; new_names = {"ko_ko":"Reference expression [TPM]", "ko_wt":"Condition expression [TPM]"}
    if i == 2:
        dropping = ['ko_wt', 'wt_wt']; new_names = {"ko_ko":"Reference expression [TPM]", "ko_high":"Condition expression [TPM]"}
    if i == 3:
        dropping = ['ko_ko', 'wt_wt']; new_names = {"ko_wt":"Reference expression [TPM]", "ko_high":"Condition expression [TPM]"}
        
    
    full_df.drop(dropping, axis='columns', inplace=True)
    full_df.rename(columns=new_names, inplace=True)

    # drop DEGs whose max median expression is below 2 TPM
    condition_a = full_df[['Reference expression [TPM]', 'Condition expression [TPM]']].max(axis=1) >= 2
    condition_b = full_df[['Reference expression [TPM]', 'Condition expression [TPM]']].max(axis=1) < 2
    top = full_df[condition_a]
    noise = full_df[condition_b]
    print('starting from {} DEGs we filtered out {} because of low expression, remaining {}.'.format(full_df.shape[0], noise.shape[0], top.shape[0]))
    
    # renaming columns for convenience
    final_df = top.rename(columns={'log2FoldChange':'log2 fold-change', 'padj':'adjusted P', 'external_gene_name':'Gene name', "gene_biotype":"Gene biotype"})

    # sort
    final_df.sort_values(by='adjusted P', inplace=True)
    to_store = final_df[['Gene biotype', 'Gene name', 'Description', 'Reference expression [TPM]', 'Condition expression [TPM]', 'log2 fold-change', 'adjusted P']]

    # write a file
    output_file_name = output_folder + input_files[i].replace('.tsv', '.formatted.tsv')
    to_store.to_csv(output_file_name, sep='\t')

    output_file_name = output_folder + input_files[i].replace('.tsv', '.noise.tsv')
    noise.to_csv(output_file_name, sep='\t')

    final_tables.append(to_store)

to_store.head()





a = set(final_tables[0].index)
b = set(final_tables[1].index)
c = set(final_tables[2].index)
d = set(final_tables[3].index)


final_tables[0].index





sets = [a, b, c]
labels = ['WT|WT vs KO|KO', 'KO|WT vs KO|KO', 'KO|+ vs KO|KO']
mso = supervenn.supervenn(sets, labels,
                          side_plots=False, chunks_ordering='size', 
                          reverse_sets_order=False, fontsize=12, color_cycle=['tab:red', 'skyblue', 'gold'])

matplotlib.pyplot.show()


print(697+276+127+79)
print(437+276+127+100)
print(281+127+100+79)


# explore what happened with the effect of restoring 202, independently of the levels. Expect 276 genes
sub = mso.chunks[frozenset([1, 2])]
print(len(sub))


df = pandas.DataFrame(sub, columns=['ENSEMBL ID'])
df


annotated = df.join(anno, on='ENSEMBL ID')
annotated.set_index('ENSEMBL ID', inplace=True)
final_df = annotated.rename(columns={'external_gene_name':'Gene name', "gene_biotype":"Gene biotype"})
to_store = final_df[['Gene biotype', 'Gene name', 'Description']]

output_file_name = output_folder + '202isback.tsv'
to_store.to_csv(output_file_name, sep='\t')

to_store





sets = [b, c, d]
labels = ['KO|WT vs KO|KO', 'KO|+ vs KO|KO', 'high vs low']
mso = supervenn.supervenn(sets, labels,
                          side_plots=False, chunks_ordering='size', 
                          reverse_sets_order=False, fontsize=12, color_cycle=['skyblue', 'gold', 'tab:green'])

matplotlib.pyplot.show()


# explore 202 dose response: intersect of high vs KO with high vs low. Expect 346 genes
sub = mso.chunks[frozenset([1, 2])]
print(len(sub))


df = pandas.DataFrame(sub, columns=['ENSEMBL ID'])
df


annotated = df.join(anno, on='ENSEMBL ID')
annotated.set_index('ENSEMBL ID', inplace=True)
final_df = annotated.rename(columns={'external_gene_name':'Gene name', "gene_biotype":"Gene biotype"})
to_store = final_df[['Gene biotype', 'Gene name', 'Description']]

output_file_name = output_folder + '202ishigh.tsv'
to_store.to_csv(output_file_name, sep='\t')

to_store



