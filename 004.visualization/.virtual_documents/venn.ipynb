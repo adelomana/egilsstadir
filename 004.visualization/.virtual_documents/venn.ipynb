import supervenn, pandas, matplotlib_venn


import matplotlib, matplotlib.pyplot
matplotlib.rcParams.update({'font.size':20, 
                            'font.family':'sans-serif', 
                            'xtick.labelsize':16, 
                            'ytick.labelsize':16, 
                            'figure.figsize':(16*(2/3), 9*(2/3)), 
                            'axes.labelsize':20
                           })





annotation_file = '/Users/adrian/research/egilsstadir/results/deseq2/annotation.tsv'
annotation = pandas.read_csv(annotation_file, sep='\t')
annotation





input_dir = '/Users/adrian/research/egilsstadir/results/deseq2/'

df = pandas.read_csv(input_dir+'effect_KO_vs_WT.tsv', sep='\t', index_col=0)
a = set(df.index)
print(len(a))

df = pandas.read_csv(input_dir+'effect_202low_vs_WT.tsv', sep='\t', index_col=0)
b = set(df.index)
print(len(b))

df = pandas.read_csv(input_dir+'effect_202high_vs_WT.tsv', sep='\t', index_col=0)
c = set(df.index)
print(len(c))

df = pandas.read_csv(input_dir+'effect_202high_vs_202low.tsv', sep='\t', index_col=0)
d = set(df.index)
print(len(d))


sets = [a, b, c]
labels = ['KO|KO vs WT|WT', 'KO|WT vs WT|WT', 'KO|+ vs WT|WT']
mso = supervenn.supervenn(sets, labels,
                          side_plots=False, chunks_ordering='size', 
                          reverse_sets_order=False, fontsize=12, color_cycle=['tab:red', 'skyblue', 'gold', 'tab:green'])

matplotlib.pyplot.show()


# explore what happened with the effect of loosing 201: WT vs KO|* minus WT vs KO|KO
sub = mso.chunks[frozenset([1, 2])]
print(len(sub))

for ensembl in list(sub):
    symbol = list(set(annotation[annotation['ensembl_gene_id'] == ensembl]['external_gene_name'].values))[0]
    description = list(set(annotation[annotation['ensembl_gene_id'] == ensembl]['description'].values))[0].split(' [')[0]
    print('{}\t{}\t{}'.format(ensembl, symbol, description))


sets = [b, c, d]
labels = ['KO|WT vs WT|WT', 'KO|+ vs WT|WT', 'high vs low']
mso = supervenn.supervenn(sets, labels,
                          side_plots=False, chunks_ordering='size', 
                          reverse_sets_order=False, fontsize=12, color_cycle=['skyblue', 'gold', 'tab:green'])

matplotlib.pyplot.show()


# explore what happened with the effect of high levels of 202 in the 201 KO background: uniques high vs low compared to KO|* vs WT|WT
sub = mso.chunks[frozenset([2])]
print(len(sub))

for ensembl in list(sub):
    symbol = list(set(annotation[annotation['ensembl_gene_id'] == ensembl]['external_gene_name'].values))[0]
    description = list(set(annotation[annotation['ensembl_gene_id'] == ensembl]['description'].values))[0].split(' [')[0]
    print('{}\t{}\t{}'.format(ensembl, symbol, description))
