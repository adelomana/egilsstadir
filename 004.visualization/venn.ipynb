{
 "cells": [
  {
   "cell_type": "code",
   "execution_count": 1,
   "id": "56f11a9f-3a1a-4238-853d-8e8c6167886a",
   "metadata": {},
   "outputs": [],
   "source": [
    "import supervenn, pandas, matplotlib_venn"
   ]
  },
  {
   "cell_type": "code",
   "execution_count": 2,
   "id": "354d88de-5601-42de-b8eb-7c1fbda23d16",
   "metadata": {},
   "outputs": [],
   "source": [
    "import matplotlib, matplotlib.pyplot\n",
    "matplotlib.rcParams.update({'font.size':20, \n",
    "                            'font.family':'sans-serif', \n",
    "                            'xtick.labelsize':16, \n",
    "                            'ytick.labelsize':16, \n",
    "                            'figure.figsize':(16*(2/3), 9*(2/3)), \n",
    "                            'axes.labelsize':20\n",
    "                           })"
   ]
  },
  {
   "cell_type": "markdown",
   "id": "a2fa2f07-05ab-4b45-bc72-d868e5825a4d",
   "metadata": {},
   "source": [
    "# define annotations for later"
   ]
  },
  {
   "cell_type": "code",
   "execution_count": 3,
   "id": "2cd5fa23-b326-42cc-bb99-371ce9a69665",
   "metadata": {},
   "outputs": [
    {
     "data": {
      "text/html": [
       "<div>\n",
       "<style scoped>\n",
       "    .dataframe tbody tr th:only-of-type {\n",
       "        vertical-align: middle;\n",
       "    }\n",
       "\n",
       "    .dataframe tbody tr th {\n",
       "        vertical-align: top;\n",
       "    }\n",
       "\n",
       "    .dataframe thead th {\n",
       "        text-align: right;\n",
       "    }\n",
       "</style>\n",
       "<table border=\"1\" class=\"dataframe\">\n",
       "  <thead>\n",
       "    <tr style=\"text-align: right;\">\n",
       "      <th></th>\n",
       "      <th>Unnamed: 0</th>\n",
       "      <th>ensembl_transcript_id</th>\n",
       "      <th>ensembl_gene_id</th>\n",
       "      <th>external_gene_name</th>\n",
       "      <th>gene_biotype</th>\n",
       "      <th>description</th>\n",
       "    </tr>\n",
       "  </thead>\n",
       "  <tbody>\n",
       "    <tr>\n",
       "      <th>0</th>\n",
       "      <td>1</td>\n",
       "      <td>ENST00000387314</td>\n",
       "      <td>ENSG00000210049</td>\n",
       "      <td>MT-TF</td>\n",
       "      <td>Mt_tRNA</td>\n",
       "      <td>mitochondrially encoded tRNA-Phe (UUU/C) [Sour...</td>\n",
       "    </tr>\n",
       "    <tr>\n",
       "      <th>1</th>\n",
       "      <td>2</td>\n",
       "      <td>ENST00000389680</td>\n",
       "      <td>ENSG00000211459</td>\n",
       "      <td>MT-RNR1</td>\n",
       "      <td>Mt_rRNA</td>\n",
       "      <td>mitochondrially encoded 12S rRNA [Source:HGNC ...</td>\n",
       "    </tr>\n",
       "    <tr>\n",
       "      <th>2</th>\n",
       "      <td>3</td>\n",
       "      <td>ENST00000387342</td>\n",
       "      <td>ENSG00000210077</td>\n",
       "      <td>MT-TV</td>\n",
       "      <td>Mt_tRNA</td>\n",
       "      <td>mitochondrially encoded tRNA-Val (GUN) [Source...</td>\n",
       "    </tr>\n",
       "    <tr>\n",
       "      <th>3</th>\n",
       "      <td>4</td>\n",
       "      <td>ENST00000387347</td>\n",
       "      <td>ENSG00000210082</td>\n",
       "      <td>MT-RNR2</td>\n",
       "      <td>Mt_rRNA</td>\n",
       "      <td>mitochondrially encoded 16S rRNA [Source:HGNC ...</td>\n",
       "    </tr>\n",
       "    <tr>\n",
       "      <th>4</th>\n",
       "      <td>5</td>\n",
       "      <td>ENST00000386347</td>\n",
       "      <td>ENSG00000209082</td>\n",
       "      <td>MT-TL1</td>\n",
       "      <td>Mt_tRNA</td>\n",
       "      <td>mitochondrially encoded tRNA-Leu (UUA/G) 1 [So...</td>\n",
       "    </tr>\n",
       "    <tr>\n",
       "      <th>...</th>\n",
       "      <td>...</td>\n",
       "      <td>...</td>\n",
       "      <td>...</td>\n",
       "      <td>...</td>\n",
       "      <td>...</td>\n",
       "      <td>...</td>\n",
       "    </tr>\n",
       "    <tr>\n",
       "      <th>278215</th>\n",
       "      <td>278216</td>\n",
       "      <td>ENST00000441160</td>\n",
       "      <td>ENSG00000228437</td>\n",
       "      <td>LINC02474</td>\n",
       "      <td>lncRNA</td>\n",
       "      <td>long intergenic non-protein coding RNA 2474 [S...</td>\n",
       "    </tr>\n",
       "    <tr>\n",
       "      <th>278216</th>\n",
       "      <td>278217</td>\n",
       "      <td>ENST00000412098</td>\n",
       "      <td>ENSG00000229463</td>\n",
       "      <td>LYST-AS1</td>\n",
       "      <td>lncRNA</td>\n",
       "      <td>LYST antisense RNA 1 [Source:HGNC Symbol;Acc:H...</td>\n",
       "    </tr>\n",
       "    <tr>\n",
       "      <th>278217</th>\n",
       "      <td>278218</td>\n",
       "      <td>ENST00000438371</td>\n",
       "      <td>ENSG00000229291</td>\n",
       "      <td>LINC02768</td>\n",
       "      <td>lncRNA</td>\n",
       "      <td>long intergenic non-protein coding RNA 2768 [S...</td>\n",
       "    </tr>\n",
       "    <tr>\n",
       "      <th>278218</th>\n",
       "      <td>278219</td>\n",
       "      <td>ENST00000715678</td>\n",
       "      <td>ENSG00000229291</td>\n",
       "      <td>LINC02768</td>\n",
       "      <td>lncRNA</td>\n",
       "      <td>long intergenic non-protein coding RNA 2768 [S...</td>\n",
       "    </tr>\n",
       "    <tr>\n",
       "      <th>278219</th>\n",
       "      <td>278220</td>\n",
       "      <td>ENST00000443207</td>\n",
       "      <td>ENSG00000229291</td>\n",
       "      <td>LINC02768</td>\n",
       "      <td>lncRNA</td>\n",
       "      <td>long intergenic non-protein coding RNA 2768 [S...</td>\n",
       "    </tr>\n",
       "  </tbody>\n",
       "</table>\n",
       "<p>278220 rows × 6 columns</p>\n",
       "</div>"
      ],
      "text/plain": [
       "        Unnamed: 0 ensembl_transcript_id  ensembl_gene_id external_gene_name  \\\n",
       "0                1       ENST00000387314  ENSG00000210049              MT-TF   \n",
       "1                2       ENST00000389680  ENSG00000211459            MT-RNR1   \n",
       "2                3       ENST00000387342  ENSG00000210077              MT-TV   \n",
       "3                4       ENST00000387347  ENSG00000210082            MT-RNR2   \n",
       "4                5       ENST00000386347  ENSG00000209082             MT-TL1   \n",
       "...            ...                   ...              ...                ...   \n",
       "278215      278216       ENST00000441160  ENSG00000228437          LINC02474   \n",
       "278216      278217       ENST00000412098  ENSG00000229463           LYST-AS1   \n",
       "278217      278218       ENST00000438371  ENSG00000229291          LINC02768   \n",
       "278218      278219       ENST00000715678  ENSG00000229291          LINC02768   \n",
       "278219      278220       ENST00000443207  ENSG00000229291          LINC02768   \n",
       "\n",
       "       gene_biotype                                        description  \n",
       "0           Mt_tRNA  mitochondrially encoded tRNA-Phe (UUU/C) [Sour...  \n",
       "1           Mt_rRNA  mitochondrially encoded 12S rRNA [Source:HGNC ...  \n",
       "2           Mt_tRNA  mitochondrially encoded tRNA-Val (GUN) [Source...  \n",
       "3           Mt_rRNA  mitochondrially encoded 16S rRNA [Source:HGNC ...  \n",
       "4           Mt_tRNA  mitochondrially encoded tRNA-Leu (UUA/G) 1 [So...  \n",
       "...             ...                                                ...  \n",
       "278215       lncRNA  long intergenic non-protein coding RNA 2474 [S...  \n",
       "278216       lncRNA  LYST antisense RNA 1 [Source:HGNC Symbol;Acc:H...  \n",
       "278217       lncRNA  long intergenic non-protein coding RNA 2768 [S...  \n",
       "278218       lncRNA  long intergenic non-protein coding RNA 2768 [S...  \n",
       "278219       lncRNA  long intergenic non-protein coding RNA 2768 [S...  \n",
       "\n",
       "[278220 rows x 6 columns]"
      ]
     },
     "execution_count": 3,
     "metadata": {},
     "output_type": "execute_result"
    }
   ],
   "source": [
    "annotation_file = '/Users/adrian/research/egilsstadir/results/deseq2/annotation.tsv'\n",
    "annotation = pandas.read_csv(annotation_file, sep='\\t')\n",
    "annotation"
   ]
  },
  {
   "cell_type": "markdown",
   "id": "eb4035ae-5cf1-492d-b84b-5d5ba0624c64",
   "metadata": {},
   "source": [
    "# super venn"
   ]
  },
  {
   "cell_type": "code",
   "execution_count": 4,
   "id": "23472e26-64c2-44ee-b091-1035b6dadba0",
   "metadata": {},
   "outputs": [
    {
     "name": "stdout",
     "output_type": "stream",
     "text": [
      "834\n",
      "1450\n",
      "1687\n",
      "1469\n"
     ]
    }
   ],
   "source": [
    "input_dir = '/Users/adrian/research/egilsstadir/results/deseq2/'\n",
    "\n",
    "df = pandas.read_csv(input_dir+'effect_WT_vs_KO.tsv', sep='\\t', index_col=0)\n",
    "a = set(df.index)\n",
    "print(len(a))\n",
    "\n",
    "df = pandas.read_csv(input_dir+'effect_202low_vs_KO.tsv', sep='\\t', index_col=0)\n",
    "b = set(df.index)\n",
    "print(len(b))\n",
    "\n",
    "df = pandas.read_csv(input_dir+'effect_202high_vs_KO.tsv', sep='\\t', index_col=0)\n",
    "c = set(df.index)\n",
    "print(len(c))\n",
    "\n",
    "df = pandas.read_csv(input_dir+'effect_202high_vs_202low.tsv', sep='\\t', index_col=0)\n",
    "d = set(df.index)\n",
    "print(len(d))"
   ]
  },
  {
   "cell_type": "code",
   "execution_count": 5,
   "id": "aba2d0cb-64b7-45d4-8673-598f7587bdfd",
   "metadata": {},
   "outputs": [
    {
     "data": {
      "image/png": "[encoded data removed]",
      "text/plain": [
       "<Figure size 1066.67x600 with 1 Axes>"
      ]
     },
     "metadata": {},
     "output_type": "display_data"
    }
   ],
   "source": [
    "sets = [a, b, c]\n",
    "labels = ['WT|WT vs KO|KO', 'KO|WT vs KO|KO', 'KO|+ vs KO|KO']\n",
    "mso = supervenn.supervenn(sets, labels,\n",
    "                          side_plots=False, chunks_ordering='size', \n",
    "                          reverse_sets_order=False, fontsize=12, color_cycle=['tab:red', 'skyblue', 'gold', 'tab:green'])\n",
    "\n",
    "matplotlib.pyplot.show()"
   ]
  },
  {
   "cell_type": "code",
   "execution_count": 6,
   "id": "0eb4ddd5-8eff-4280-9864-a1191e164867",
   "metadata": {},
   "outputs": [
    {
     "name": "stdout",
     "output_type": "stream",
     "text": [
      "1450\n",
      "834\n"
     ]
    }
   ],
   "source": [
    "print(703 + 411 + 187 + 149)\n",
    "print(375 + 187 + 149 + 123)"
   ]
  },
  {
   "cell_type": "code",
   "execution_count": null,
   "id": "40edd1f6-a3f8-49af-b8de-c9cf1726fa41",
   "metadata": {},
   "outputs": [],
   "source": [
    "%%time\n",
    "\n",
    "# explore what happened with the effect of restoring 201, independently of the levels\n",
    "sub = mso.chunks[frozenset([1, 2])]\n",
    "print(len(sub))\n",
    "\n",
    "container4table = []\n",
    "\n",
    "for ensembl in list(sub):\n",
    "    symbol = list(set(annotation[annotation['ensembl_gene_id'] == ensembl]['external_gene_name'].values))[0]\n",
    "    description = list(set(annotation[annotation['ensembl_gene_id'] == ensembl]['description'].values))[0].split(' [')[0]\n",
    "    biotype = list(set(annotation[annotation['ensembl_gene_id'] == ensembl]['gene_biotype'].values))[0].split(' [')[0]\n",
    "    #print('{}\\t{}\\t{}\\t{}'.format(ensembl, symbol, description, biotype))\n",
    "\n",
    "    # fill up for storing info as a table\n",
    "    container4table.append([ensembl, symbol, description, biotype])\n",
    "\n",
    "# finalize & store table\n",
    "print('storing file...')\n",
    "table = pandas.DataFrame(container4table, columns=['ENSEMBL', 'Symbol', 'Description', 'Biotype'])\n",
    "table.set_index('ENSEMBL', inplace=True)\n",
    "\n",
    "label = 'fill_this_label_otherwise_tables_will_overwrite'\n",
    "table_file = label + '.xlsx'\n",
    "table.to_excel(table_file)"
   ]
  },
  {
   "cell_type": "code",
   "execution_count": null,
   "id": "6b4186e6-0c45-441f-833e-95e0f9b8677b",
   "metadata": {},
   "outputs": [],
   "source": [
    "sets = [b, c, d]\n",
    "labels = ['KO|WT vs KO|KO', 'KO|+ vs KO|KO', 'high vs low']\n",
    "mso = supervenn.supervenn(sets, labels,\n",
    "                          side_plots=False, chunks_ordering='size', \n",
    "                          reverse_sets_order=False, fontsize=12, color_cycle=['skyblue', 'gold', 'tab:green'])\n",
    "\n",
    "matplotlib.pyplot.show()"
   ]
  },
  {
   "cell_type": "code",
   "execution_count": null,
   "id": "f7db1bba-7d96-4c60-82ee-09fe25cba4d5",
   "metadata": {},
   "outputs": [],
   "source": [
    "print(510 + 466 + 379 + 114)\n",
    "print(623 + 484 + 466 + 114)"
   ]
  },
  {
   "cell_type": "code",
   "execution_count": null,
   "id": "575006bb-43f6-4ac1-90f3-8f2144b0f549",
   "metadata": {},
   "outputs": [],
   "source": [
    "# explore 202 dose response: intersect of high vs KO with high vs low\n",
    "sub = mso.chunks[frozenset([1, 2])]\n",
    "print(len(sub))\n",
    "\n",
    "for ensembl in list(sub):\n",
    "    symbol = list(set(annotation[annotation['ensembl_gene_id'] == ensembl]['external_gene_name'].values))[0]\n",
    "    description = list(set(annotation[annotation['ensembl_gene_id'] == ensembl]['description'].values))[0].split(' [')[0]\n",
    "    print('{}\\t{}\\t{}'.format(ensembl, symbol, description))"
   ]
  }
 ],
 "metadata": {
  "kernelspec": {
   "display_name": "Python 3 (ipykernel)",
   "language": "python",
   "name": "python3"
  },
  "language_info": {
   "codemirror_mode": {
    "name": "ipython",
    "version": 3
   },
   "file_extension": ".py",
   "mimetype": "text/x-python",
   "name": "python",
   "nbconvert_exporter": "python",
   "pygments_lexer": "ipython3",
   "version": "3.11.10"
  }
 },
 "nbformat": 4,
 "nbformat_minor": 5
}
